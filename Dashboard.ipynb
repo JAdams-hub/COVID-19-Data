{
 "cells": [
  {
   "cell_type": "markdown",
   "metadata": {},
   "source": [
    "[DIY Covid-19 Dashboard Kit](https://github.com/fsmeraldi/diy-covid19dash) (C) Fabrizio Smeraldi, 2020 ([f.smeraldi@qmul.ac.uk](mailto:f.smeraldi@qmul.ac.uk) - [web](http://www.eecs.qmul.ac.uk/~fabri/)). This notebook is released under the [GNU GPLv3.0 or later](https://www.gnu.org/licenses/)."
   ]
  },
  {
   "cell_type": "markdown",
   "metadata": {},
   "source": [
    "# DIY Covid-19 Dashboard"
   ]
  },
  {
   "cell_type": "markdown",
   "metadata": {},
   "source": [
    "This is a template for your DIY Covid Dashboard, to which you can add the code you developed in the previous notebooks. The dashboard will be displayed using [voila](https://voila.readthedocs.io/en/stable/index.html), a Python dashboarding tool that converts notebooks to standalone dashboards. Contrary to the other libraries we have seen, the ```voila``` package must be installed using *pip* or *conda* but it does not need to be imported - it rather acts at the level of the notebook server. Package ```voila``` is already installed on the QMUL JupyterHub as well as in the Binder - to install it locally, follow the [instructions](https://voila.readthedocs.io/en/stable/install.html) online.\n",
    "\n",
    "Broadly speaking, Voila acts by **running all the cells in your notebook** when the dashboard is first loaded; it then hides all code cells and displays all markdown cells and any outputs, including widgets. However, the code is still there in the background and handles any interaction with the widgets. To view this dashboard template rendered in Voila click [here](https://mybinder.org/v2/gh/fsmeraldi/diy-covid19dash/main?urlpath=%2Fvoila%2Frender%2FDashboard.ipynb)."
   ]
  },
  {
   "cell_type": "code",
   "execution_count": 1,
   "metadata": {},
   "outputs": [],
   "source": [
    "from IPython.display import clear_output\n",
    "import ipywidgets as wdg\n",
    "import pandas as pd\n",
    "import numpy as np\n",
    "import matplotlib.pyplot as plt\n",
    "import json\n",
    "from uk_covid19 import Cov19API\n",
    "import time"
   ]
  },
  {
   "cell_type": "code",
   "execution_count": 2,
   "metadata": {},
   "outputs": [],
   "source": [
    "%matplotlib inline\n",
    "# make figures larger\n",
    "plt.rcParams['figure.dpi'] = 100"
   ]
  },
  {
   "cell_type": "markdown",
   "metadata": {},
   "source": [
    "## Load initial data from disk\n",
    "\n",
    "You should include \"canned\" data in ```.json``` files along with your dashboard. When the dashboard starts, it should load that data and assign it as a dictionary to the ```jsondata``` variable (the code below will be hidden when the dashboard is rendered by Voila)."
   ]
  },
  {
   "cell_type": "code",
   "execution_count": 3,
   "metadata": {},
   "outputs": [],
   "source": [
    "# Load JSON files and store the raw data in some variable. Edit as appropriate\n",
    "jsondata={}\n",
    "\n",
    "# Assigning the name of the data to a variable\n",
    "# The data within this file consists of all the data regarding hospital admissions\n",
    "# and ventilator bed usage within England. \n",
    "# This is based on when the data was first recorded, all through to the most recent recorded data\n",
    "# of the time that this JSON file was created.\n",
    "file = \"admission_ventilators.json\"\n",
    "\n",
    "# Reads the json file, and assigns the file to the variable 'data'\n",
    "with open(file, \"rt\") as dataFile:\n",
    "   data = json.load(dataFile)\n",
    "\n",
    "# Adds the file name to the dictionary as the key, with the json file data as the value\n",
    "jsondata[file] = data \n"
   ]
  },
  {
   "cell_type": "markdown",
   "metadata": {},
   "source": [
    "## Wrangle the data\n",
    "\n",
    "The dashboard should contain the logic to wrangle the raw data into a ```DataFrame``` (or more than one, as required) that will be used for plotting. The wrangling code should be put into a function and called on the data from the JSON file (we'll need to call it again on any data downloaded from the API).  In this template, we just pretend we are wrangling ```rawdata``` and instead generate a dataframe with some random data"
   ]
  },
  {
   "cell_type": "code",
   "execution_count": 4,
   "metadata": {},
   "outputs": [],
   "source": [
    "\n",
    "# This function will sort the raw data into a DataFrame\n",
    "def wrangle_data(rawdata):\n",
    "\n",
    "    # Extracting the data from the file/Removing any information outside of the data itself\n",
    "    dataCleaned = jsondata[file]['data']\n",
    "\n",
    "    # Extracting the dates to be utilized for each index/row\n",
    "    dates = [i['date'] for i in dataCleaned]\n",
    "    \n",
    "    # The dates needed to be sorted in ascending order, as they were received in descending order\n",
    "    dates.sort()\n",
    "\n",
    "    # assigning the start and end dates to variables\n",
    "    startDate = pd.to_datetime(dates[0])\n",
    "    endDate = pd.to_datetime(dates[-1])\n",
    "\n",
    "    # Creating the range of dates to be assigned to the index of the dataframe. Range of dates set to daily.\n",
    "    # Duplicate and missing dates will be resolved as every day within this range will be included in the index.\n",
    "    index = pd.date_range(startDate, endDate, freq='D')\n",
    "\n",
    "\n",
    "    # Constructing the DataFrame with 3 columns regarding admissions and ventilator bed usage.\n",
    "    # Dates set as the indexes/rows\n",
    "    adm_vent_df=pd.DataFrame(index=index, columns=['Admissions', 'Ventilator_Usage'])\n",
    "    \n",
    "    for i in dataCleaned:\n",
    "        # Converting the date string of each line into a pandas datetime object\n",
    "        date = pd.to_datetime(i['date'])\n",
    "        \n",
    "        # Replacing missing values or NaN (Not a Number) values with 0 for each column per date\n",
    "        for column in ['Admissions', 'Ventilator_Usage']:\n",
    "            if pd.isna(adm_vent_df.loc[date, column]):\n",
    "                # Where the value of 0 is created to replace any missing values\n",
    "                value = float(i[column]) if i[column] != None else 0.0\n",
    "                # Assigning this value to the location of where the value is missing\n",
    "                adm_vent_df.loc[date, column] = value\n",
    "\n",
    "    # Replacing missing values/NAN for all the dates that were not accounted for in the above loop\n",
    "    # Aka the dates missing from the original 'admission_ventilators.json file\n",
    "    adm_vent_df.fillna(0.0, inplace=True)\n",
    "\n",
    "    # Returns the DataFrame \n",
    "    return adm_vent_df\n",
    "\n",
    "\n",
    "\n",
    "# putting the wrangling code into a function allows you to call it again after refreshing the data through \n",
    "# the API. You should call the function directly on the JSON data when the dashboard starts, by including \n",
    "# the call in this cell as below:\n",
    "df=wrangle_data(jsondata) # df is the dataframe for plotting"
   ]
  },
  {
   "cell_type": "markdown",
   "metadata": {},
   "source": [
    "## Download current data"
   ]
  },
  {
   "cell_type": "markdown",
   "metadata": {},
   "source": [
    "Give your users an option to refresh the dataset - a \"refresh\" button will do. The button callback should\n",
    "* call the code that accesses the API and download some fresh raw data;\n",
    "* wrangle that data into a dataframe and update the corresponding (global) variable for plotting (here, ```df```);\n",
    "* optionally: force a redraw of the graph and give the user some fredback.\n",
    "\n",
    "Once you get it to work, you may want to wrap your API call inside an exception handler, so that the user is informed, the \"canned\" data are not overwritten and nothing crashes if for any reason the server cannot be reached or data are not available.\n",
    "\n",
    "After you refresh the data, graphs will not update until the user interacts with a widget. You can trick ```iPywidgets``` into redrawing the graph by simulating interaction, as in the ```refresh_graph``` function we define in the Graph and Analysis section below.\n",
    "\n",
    "In this example, clicking on the button below just generates some more random data and refreshes the graph. The button should read *Fetch Data*. If you see anything else, take a deep breath :)"
   ]
  },
  {
   "cell_type": "code",
   "execution_count": 5,
   "metadata": {},
   "outputs": [],
   "source": [
    "# This function will download all the data from Public Health England regarding \n",
    "# admissions into hospital and ventilator usage throughout the country.\n",
    "# The data received starts from when the data was first recorded, all through to the\n",
    "# most recent record that is available to be downloaded.\n",
    "def access_api():\n",
    "    # Creates the dictionary of which the new raw data will be stored inn\n",
    "    new_data = {}\n",
    "    \n",
    "    new_data_name = 'refreshed_adm_vent'\n",
    "    \n",
    "    # Filters the data received to the country 'England' in response to the request\n",
    "    filter = ['areaType=nation', 'areaName=England' ]\n",
    "    \n",
    "    # Provides the order of data/structure and metrics to be requested from the coronavirus data\n",
    "    structure = {'date': 'date',\n",
    "            'Admissions': 'newAdmissions',\n",
    "            'Ventilator_Usage': 'covidOccupiedMVBeds'}\n",
    "    \n",
    "    # Constructor for the Cov19API object with the filter and structure assigned\n",
    "    api = Cov19API(filters=filter, structure=structure)\n",
    "    \n",
    "    # Retrieves the data from the API in JSON format \n",
    "    refreshed_adm_vent = api.get_json()\n",
    "\n",
    "    # Assigns the new new_data_name to its data values in the new_data dictionary\n",
    "    new_data[new_data_name] = refreshed_adm_vent \n",
    "\n",
    "\n",
    "    # Returns the new_data dictionary\n",
    "    return new_data # return data read from the API\n"
   ]
  },
  {
   "cell_type": "code",
   "execution_count": 6,
   "metadata": {},
   "outputs": [
    {
     "data": {
      "application/vnd.jupyter.widget-view+json": {
       "model_id": "ba1d35f05a5240bca486f659dea07da2",
       "version_major": 2,
       "version_minor": 0
      },
      "text/plain": [
       "Button(button_style='info', description='Refresh data', icon='refresh', style=ButtonStyle(), tooltip='Click to…"
      ]
     },
     "metadata": {},
     "output_type": "display_data"
    }
   ],
   "source": [
    "# Printout from this function will be lost in Voila unless captured in an\n",
    "# output widget - therefore, we give feedback to the user by changing the \n",
    "# appearance of the button\n",
    "\n",
    "# \n",
    "def api_button_callback(button):\n",
    "    \"\"\" Button callback - it must take the button as its parameter (unused in this case).\n",
    "    Accesses API, wrangles data, updates global variable df used for plotting. \"\"\"\n",
    "    # Get fresh data from the API. If you have time, include some error handling\n",
    "    # around this call.\n",
    "\n",
    "    # Assigns the access_api() function to a variable, where the output of the function is stored.\n",
    "    refreshed_data=access_api()\n",
    "    \n",
    "    # wrangles the data and overwrites the dataframe for plotting\n",
    "    global df\n",
    "    df=wrangle_data(refreshed_data)\n",
    "\n",
    "    # Sets button icon as 'check' sign once clicked and removes the button style.\n",
    "    # Then stops any further executions for 4 seconds. Leaving the button disablled in this time.\n",
    "    # Once 4 seconds is over, button is available again with the 'refresh' sign assigned to it.\n",
    "    apiButton.icon=\"check\"\n",
    "    apiButton.disabled=True\n",
    "    apiButton.description='Downloading...'\n",
    "    apiButton.button_style=''\n",
    "    time.sleep(4)\n",
    "    apiButton.disabled=False\n",
    "    apiButton.description='Refresh data'\n",
    "    apiButton.button_style='info'\n",
    "    apiButton.icon=\"refresh\"\n",
    "    \n",
    "    # Calls the refresh_graph() function \n",
    "    refresh_graph()\n",
    "    \n",
    "\n",
    "# sets the parameters of the button\n",
    "apiButton=wdg.Button(\n",
    "    description='Refresh data',\n",
    "    disabled=False,\n",
    "    button_style='info',\n",
    "    tooltip='Click to download the current Public Health England Covid-19 data',\n",
    "    icon='refresh')\n",
    "\n",
    "\n",
    "# remember to register your button callback function with the button\n",
    "apiButton.on_click(api_button_callback) # the name of your function inside these brackets\n",
    "\n",
    "display(apiButton)\n",
    "\n",
    "# run all cells before clicking on this button"
   ]
  },
  {
   "cell_type": "markdown",
   "metadata": {},
   "source": [
    "## Graphs and Analysis"
   ]
  },
  {
   "cell_type": "markdown",
   "metadata": {},
   "source": [
    "Include at least one graph with interactive controls, as well as some instructions for the user and/or comments on what the graph represents and how it should be explored (this example shows two random walks)"
   ]
  },
  {
   "cell_type": "code",
   "execution_count": 7,
   "metadata": {},
   "outputs": [
    {
     "data": {
      "application/vnd.jupyter.widget-view+json": {
       "model_id": "c1e4b3d3ff55415e9738cb465d20e4a2",
       "version_major": 2,
       "version_minor": 0
      },
      "text/plain": [
       "VBox(children=(Output(), SelectMultiple(description='Stats:', index=(0, 1), options=('Admissions', 'Ventilator…"
      ]
     },
     "metadata": {},
     "output_type": "display_data"
    }
   ],
   "source": [
    "# Creates a widget that allows users to select the specific data they want to see.\n",
    "# Data is either the hospital admissions data or the ventilator usage data.\n",
    "# Users are able to select multiple pieces of data at the same time.\n",
    "# Widgets - https://ipywidgets.readthedocs.io/en/latest/examples/Widget%20List.html#numeric-widgets\n",
    "selection = wdg.SelectMultiple(\n",
    "    options = ['Admissions', 'Ventilator_Usage'],\n",
    "    value = ['Admissions', 'Ventilator_Usage'],\n",
    "    rows = 2,\n",
    "    description = 'Stats:',\n",
    "    disabled = False)\n",
    "\n",
    "# Creates buttons that allow users to switch between graphs\n",
    "# Graph options are either: line or bar\n",
    "table_options = wdg.ToggleButtons(\n",
    "    options=['Line', 'Bar (Long Wait Time)'],\n",
    "    description='Graph Type:',\n",
    "    disabled=False,\n",
    "    button_style='',\n",
    "    tooltips=['Line Graph', 'Bar Chart (Large data load)'])\n",
    "\n",
    "# Variable counting the number of instances in the DataFrame\n",
    "# For usage of the slider  to set the minimum and max indexs of the DataFrame\n",
    "value=[x for x in range(len(df.index))]\n",
    "# Creates a slider to specify the dates for the bar chart\n",
    "slider = wdg.IntRangeSlider(\n",
    "    value=(value[0], value[-1]),\n",
    "    min=value[0],\n",
    "    max=value[-1],\n",
    "    step=1,\n",
    "    description='Date Range:',\n",
    "    disabled=False,\n",
    "    continuous_update=True,\n",
    "    orientation='horizontal',\n",
    "    readout=True,\n",
    "    readout_format='d')\n",
    "\n",
    "# Function that allows user to interact with graph options from the widgets\n",
    "# Date_range is assigned to the values of the slider widget\n",
    "def adm_vent_graph(columns, style, date_range):\n",
    "    ncols = len(columns)\n",
    "    if ncols > 0:\n",
    "        # outputs a line graph if user selects line on the ToggleButtons widget\n",
    "        if style == 'Line':\n",
    "            # iloc[] is utilized with the date range in the index values \n",
    "            # to only show specific positions of the graph.\n",
    "            # https://pandas.pydata.org/pandas-docs/stable/reference/api/pandas.DataFrame.iloc.html\n",
    "            start, end = date_range\n",
    "            date_range_df = df.iloc[start:end + 1]\n",
    "            date_range_df[list(columns)].plot(kind='line')\n",
    "            plt.title('Admissions/Ventilator Usage Line Graph')\n",
    "            plt.xlabel('Dates')\n",
    "            plt.ylabel('Occurences')\n",
    "        # outputs a bar chart if user selects the bar chart option on the ToggleButtons widget   \n",
    "        # Utilizes the IntRangeSlider widget to specify the date range for the graph\n",
    "        elif style == 'Bar (Long Wait Time)':\n",
    "            start, end = date_range\n",
    "            date_range_df = df.iloc[start:end + 1]\n",
    "            date_range_df[list(columns)].plot(kind='bar')\n",
    "            plt.title('Admissions/Ventilator Usage Bar Chart')\n",
    "            plt.xlabel('Dates')\n",
    "            plt.ylabel('Occurences')\n",
    "        plt.show()\n",
    "    else:\n",
    "        print('Select the data for graph')\n",
    "\n",
    "    # Function that forces the graph the refresh when called.\n",
    "    # Is based on the options of the ToggleButtons widget.\n",
    "    def refresh_graph():\n",
    "        current = table_options.options\n",
    "        if current == table_options.options[0]:\n",
    "            other = table_options.options[1]\n",
    "        else:\n",
    "            other = table_options.options[0]\n",
    "        # Selects the button that isn't currently selected then selects back the currently selected button    \n",
    "        table_options.options = other\n",
    "        table_options.options = current\n",
    "\n",
    "\n",
    "# Allows for interaction between the user, widgets and the graph, assigns this to a variable\n",
    "# Data regarding hospital admissions and/or ventilator usage is expressed through the \n",
    "# form of either a line graph, or a bar chart.\n",
    "#  Users are able to adjust the date range to be displayed within the graph.\n",
    "graph = wdg.interactive_output(adm_vent_graph, {'columns': selection, 'style': table_options, 'date_range': slider})\n",
    "# Creates a vertical box container that holds/organises widgets vertically, assigns this to a variable\n",
    "controls=wdg.VBox([graph, selection, table_options, slider])\n",
    "# Displays all widgets and graphs assigned to controls\n",
    "display(controls)"
   ]
  },
  {
   "cell_type": "markdown",
   "metadata": {},
   "source": [
    "## Deploying the dashboard\n",
    "\n",
    "Once your code is ready and you are satisfied with the appearance of the graphs, replace all the text boxes above with the explanations you would like a dashboard user to see. The next step is deploying the dashboard online - there are several [options](https://voila.readthedocs.io/en/stable/deploy.html) for this, we suggest deploying as a [Binder](https://mybinder.org/). This is basically the same technique that has been used to package this tutorial and to deploy this template dashboard. The instructions may seem a bit involved, but the actual steps are surprisingly easy - we will be going through them together during a live session. You will need an account on [GitHub](https://github.com/) for this - if you don't have one already, now it's the time to create it. "
   ]
  },
  {
   "cell_type": "markdown",
   "metadata": {},
   "source": [
    "**Author and Copyright Notice** Remember that if you deploy this dashboard as a Binder it will be publicly accessible. Take credit for your work! Also acknowledge your sources: Based on UK Government [data](https://coronavirus.data.gov.uk/) published by [Public Health England](https://www.gov.uk/government/organisations/public-health-england) and on the [DIY Covid Dashboard Kit](https://github.com/fsmeraldi/diy-covid19dash), Copyright (C) Fabrizio Smeraldi 2020,2023. Released under the [GNU GPLv3.0 or later](https://www.gnu.org/licenses/)."
   ]
  }
 ],
 "metadata": {
  "kernelspec": {
   "display_name": "Python 3 (ipykernel)",
   "language": "python",
   "name": "python3"
  },
  "language_info": {
   "codemirror_mode": {
    "name": "ipython",
    "version": 3
   },
   "file_extension": ".py",
   "mimetype": "text/x-python",
   "name": "python",
   "nbconvert_exporter": "python",
   "pygments_lexer": "ipython3",
   "version": "3.10.13"
  }
 },
 "nbformat": 4,
 "nbformat_minor": 4
}
